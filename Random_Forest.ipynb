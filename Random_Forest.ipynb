{
  "nbformat": 4,
  "nbformat_minor": 0,
  "metadata": {
    "colab": {
      "provenance": []
    },
    "kernelspec": {
      "name": "python3",
      "display_name": "Python 3"
    },
    "language_info": {
      "name": "python"
    }
  },
  "cells": [
    {
      "cell_type": "code",
      "execution_count": null,
      "metadata": {
        "colab": {
          "base_uri": "https://localhost:8080/"
        },
        "id": "Tj4dUwV2bbV3",
        "outputId": "fc134c38-8bef-482f-e091-f1c249764735"
      },
      "outputs": [
        {
          "output_type": "stream",
          "name": "stdout",
          "text": [
            "Preprocessed dataset saved as preprocessed_dataset.csv\n"
          ]
        }
      ],
      "source": [
        "import pandas as pd\n",
        "import re\n",
        "import pickle\n",
        "from sklearn.model_selection import train_test_split\n",
        "from sklearn.ensemble import RandomForestClassifier\n",
        "from sklearn.metrics import accuracy_score\n",
        "from sklearn.feature_extraction.text import TfidfVectorizer\n",
        "\n",
        "# Load the dataset\n",
        "file_path = \"/content/text_dataset.csv\"  # Update with your file path\n",
        "df = pd.read_csv(file_path)\n",
        "\n",
        "# Label encoding: 'spam' -> 1, 'ham' -> 0\n",
        "df[\"Label\"] = df[\"Label\"].map({\"spam\": 1, \"ham\": 0})\n",
        "\n",
        "# Save the preprocessed dataset\n",
        "df.to_csv(\"text_preprocessed_dataset.csv\", index=False)\n",
        "print(\"Preprocessed dataset saved as preprocessed_dataset.csv\")\n",
        "\n"
      ]
    },
    {
      "cell_type": "code",
      "source": [
        "# Split data into training and testing sets\n",
        "X = df[\"Message\"]\n",
        "y = df[\"Label\"]\n",
        "X_train, X_test, y_train, y_test = train_test_split(X, y, test_size=0.2, random_state=42)\n",
        "\n",
        "# Convert text data to numerical features using TF-IDF\n",
        "vectorizer = TfidfVectorizer()\n",
        "X_train_tfidf = vectorizer.fit_transform(X_train)\n",
        "X_test_tfidf = vectorizer.transform(X_test)\n",
        "\n",
        "# Train RandomForest model\n",
        "model = RandomForestClassifier(n_estimators=100, random_state=42)\n",
        "model.fit(X_train_tfidf, y_train)\n",
        "\n",
        "# Predict on test data\n",
        "y_pred = model.predict(X_test_tfidf)"
      ],
      "metadata": {
        "id": "lHnYXMW6gtv0"
      },
      "execution_count": null,
      "outputs": []
    },
    {
      "cell_type": "code",
      "source": [
        "import pickle\n",
        "\n",
        "# Save both model and vectorizer in one file\n",
        "with open(\"spam_classifier_combined.pkl\", \"wb\") as file:\n",
        "    pickle.dump({\"model\": model, \"vectorizer\": vectorizer}, file)\n",
        "\n",
        "print(\"Model and vectorizer saved together in spam_classifier_combined.pkl\")\n"
      ],
      "metadata": {
        "colab": {
          "base_uri": "https://localhost:8080/"
        },
        "id": "Sb7e3hvlgTya",
        "outputId": "0cf86bed-9743-429e-ea37-4ee20cc12a9e"
      },
      "execution_count": null,
      "outputs": [
        {
          "output_type": "stream",
          "name": "stdout",
          "text": [
            "Model and vectorizer saved together in spam_classifier_combined.pkl\n"
          ]
        }
      ]
    },
    {
      "cell_type": "code",
      "source": [
        "import pickle\n",
        "\n",
        "# Load the trained model and vectorizer\n",
        "with open(\"spam_classifier_combined.pkl\", \"rb\") as file:\n",
        "    data = pickle.load(file)\n",
        "\n",
        "model = data[\"model\"]\n",
        "vectorizer = data[\"vectorizer\"]\n",
        "\n",
        "# Sample test message\n",
        "sample_text = [\"Congratulations! You won a free lottery ticket. Call now to claim your prize!\"]\n",
        "\n",
        "# Convert text to numerical features using the loaded vectorizer\n",
        "sample_text_tfidf = vectorizer.transform(sample_text)\n",
        "\n",
        "# Predict using the trained model\n",
        "prediction = model.predict(sample_text_tfidf)\n",
        "\n",
        "# Print the result\n",
        "label = \"Spam\" if prediction[0] == 1 else \"Not Spam\"\n",
        "print(f\"Predicted Label: {label}\")\n"
      ],
      "metadata": {
        "colab": {
          "base_uri": "https://localhost:8080/"
        },
        "id": "vYw0mUwrg7G9",
        "outputId": "c79a7a7d-454e-4cc0-8e07-4189e5902468"
      },
      "execution_count": null,
      "outputs": [
        {
          "output_type": "stream",
          "name": "stdout",
          "text": [
            "Predicted Label: Spam\n"
          ]
        }
      ]
    },
    {
      "cell_type": "code",
      "source": [],
      "metadata": {
        "id": "q2UBX1_SU6R9"
      },
      "execution_count": null,
      "outputs": []
    }
  ]
}